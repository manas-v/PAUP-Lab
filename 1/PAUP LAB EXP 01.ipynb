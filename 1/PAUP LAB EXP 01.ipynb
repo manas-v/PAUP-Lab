{
 "cells": [
  {
   "cell_type": "markdown",
   "id": "8827f2d5",
   "metadata": {},
   "source": [
    "### Q 1. Collect the appropriate business dataset from any repository and analyze the summary of the dataset and further divide dataset for training and testing purpose.\n",
    "#### a. Download the official dataset and import it as input.\n",
    "#### b. Give the details of the dataset such as no of samples, no of features, target vector etc by using python command.\n",
    "#### c. By using python command, divided the dataset into training, testing dataset and target dataset for training and testing along with validation dataset. "
   ]
  },
  {
   "cell_type": "markdown",
   "id": "abdf01f4",
   "metadata": {},
   "source": [
    "#### Dataset\n",
    "Customer Personality Analysis is a detailed analysis of a company’s ideal customers. It helps a business to better understand its customers and makes it easier for them to modify products according to the specific needs, behaviors and concerns of different types of customers.\n",
    "\n",
    "Customer personality analysis helps a business to modify its product based on its target customers from different types of customer segments. For example, instead of spending money to market a new product to every customer in the company’s database, a company can analyze which customer segment is most likely to buy the product and then market the product only on that particular segment.\n",
    "\n",
    "#### Attributes\n",
    "\n",
    "**People**<br>\n",
    "ID: Customer's unique identifier<br>\n",
    "Year_Birth: Customer's birth year<br>\n",
    "Education: Customer's education level<br>\n",
    "Marital_Status: Customer's marital status<br>\n",
    "Income: Customer's yearly household income<br>\n",
    "Kidhome: Number of children in customer's household<br>\n",
    "Teenhome: Number of teenagers in customer's household<br>\n",
    "Dt_Customer: Date of customer's enrollment with the company<br>\n",
    "Recency: Number of days since customer's last purchase<br>\n",
    "Complain: 1 if customer complained in the last 2 years, 0 otherwise<br>\n",
    "\n",
    "**Products**<br>\n",
    "MntWines: Amount spent on wine in last 2 years<br>\n",
    "MntFruits: Amount spent on fruits in last 2 years<br>\n",
    "MntMeatProducts: Amount spent on meat in last 2 years<br>\n",
    "MntFishProducts: Amount spent on fish in last 2 years<br>\n",
    "MntSweetProducts: Amount spent on sweets in last 2 years<br>\n",
    "MntGoldProds: Amount spent on gold in last 2 years<br>\n",
    "\n",
    "**Promotion**<br>\n",
    "NumDealsPurchases: Number of purchases made with a discount<br>\n",
    "AcceptedCmp1: 1 if customer accepted the offer in the 1st campaign, 0 otherwise<br>\n",
    "AcceptedCmp2: 1 if customer accepted the offer in the 2nd campaign, 0 otherwise<br>\n",
    "AcceptedCmp3: 1 if customer accepted the offer in the 3rd campaign, 0 otherwise<br>\n",
    "AcceptedCmp4: 1 if customer accepted the offer in the 4th campaign, 0 otherwise<br>\n",
    "AcceptedCmp5: 1 if customer accepted the offer in the 5th campaign, 0 otherwise<br>\n",
    "Response: 1 if customer accepted the offer in the last campaign, 0 otherwise<br>\n",
    "\n",
    "**Place**<br>\n",
    "NumWebPurchases: Number of purchases made through the company’s web site<br>\n",
    "NumCatalogPurchases: Number of purchases made using a catalogue<br>\n",
    "NumStorePurchases: Number of purchases made directly in stores<br>\n",
    "NumWebVisitsMonth: Number of visits to company’s web site in the last month<br>"
   ]
  },
  {
   "cell_type": "code",
   "execution_count": 1,
   "id": "a0f58dac",
   "metadata": {},
   "outputs": [],
   "source": [
    "import pandas as pd\n",
    "import numpy as np"
   ]
  },
  {
   "cell_type": "code",
   "execution_count": 2,
   "id": "c5e6638f",
   "metadata": {},
   "outputs": [
    {
     "data": {
      "text/html": [
       "<div>\n",
       "<style scoped>\n",
       "    .dataframe tbody tr th:only-of-type {\n",
       "        vertical-align: middle;\n",
       "    }\n",
       "\n",
       "    .dataframe tbody tr th {\n",
       "        vertical-align: top;\n",
       "    }\n",
       "\n",
       "    .dataframe thead th {\n",
       "        text-align: right;\n",
       "    }\n",
       "</style>\n",
       "<table border=\"1\" class=\"dataframe\">\n",
       "  <thead>\n",
       "    <tr style=\"text-align: right;\">\n",
       "      <th></th>\n",
       "      <th>Year_Birth</th>\n",
       "      <th>Education</th>\n",
       "      <th>Marital_Status</th>\n",
       "      <th>Income</th>\n",
       "      <th>Kidhome</th>\n",
       "      <th>Teenhome</th>\n",
       "      <th>Dt_Customer</th>\n",
       "      <th>Recency</th>\n",
       "      <th>MntWines</th>\n",
       "      <th>MntFruits</th>\n",
       "      <th>...</th>\n",
       "      <th>NumWebVisitsMonth</th>\n",
       "      <th>AcceptedCmp3</th>\n",
       "      <th>AcceptedCmp4</th>\n",
       "      <th>AcceptedCmp5</th>\n",
       "      <th>AcceptedCmp1</th>\n",
       "      <th>AcceptedCmp2</th>\n",
       "      <th>Complain</th>\n",
       "      <th>Z_CostContact</th>\n",
       "      <th>Z_Revenue</th>\n",
       "      <th>Response</th>\n",
       "    </tr>\n",
       "    <tr>\n",
       "      <th>ID</th>\n",
       "      <th></th>\n",
       "      <th></th>\n",
       "      <th></th>\n",
       "      <th></th>\n",
       "      <th></th>\n",
       "      <th></th>\n",
       "      <th></th>\n",
       "      <th></th>\n",
       "      <th></th>\n",
       "      <th></th>\n",
       "      <th></th>\n",
       "      <th></th>\n",
       "      <th></th>\n",
       "      <th></th>\n",
       "      <th></th>\n",
       "      <th></th>\n",
       "      <th></th>\n",
       "      <th></th>\n",
       "      <th></th>\n",
       "      <th></th>\n",
       "      <th></th>\n",
       "    </tr>\n",
       "  </thead>\n",
       "  <tbody>\n",
       "    <tr>\n",
       "      <th>5524</th>\n",
       "      <td>1957</td>\n",
       "      <td>Graduation</td>\n",
       "      <td>Single</td>\n",
       "      <td>58138.0</td>\n",
       "      <td>0</td>\n",
       "      <td>0</td>\n",
       "      <td>04-09-2012</td>\n",
       "      <td>58</td>\n",
       "      <td>635</td>\n",
       "      <td>88</td>\n",
       "      <td>...</td>\n",
       "      <td>7</td>\n",
       "      <td>0</td>\n",
       "      <td>0</td>\n",
       "      <td>0</td>\n",
       "      <td>0</td>\n",
       "      <td>0</td>\n",
       "      <td>0</td>\n",
       "      <td>3</td>\n",
       "      <td>11</td>\n",
       "      <td>1</td>\n",
       "    </tr>\n",
       "    <tr>\n",
       "      <th>2174</th>\n",
       "      <td>1954</td>\n",
       "      <td>Graduation</td>\n",
       "      <td>Single</td>\n",
       "      <td>46344.0</td>\n",
       "      <td>1</td>\n",
       "      <td>1</td>\n",
       "      <td>08-03-2014</td>\n",
       "      <td>38</td>\n",
       "      <td>11</td>\n",
       "      <td>1</td>\n",
       "      <td>...</td>\n",
       "      <td>5</td>\n",
       "      <td>0</td>\n",
       "      <td>0</td>\n",
       "      <td>0</td>\n",
       "      <td>0</td>\n",
       "      <td>0</td>\n",
       "      <td>0</td>\n",
       "      <td>3</td>\n",
       "      <td>11</td>\n",
       "      <td>0</td>\n",
       "    </tr>\n",
       "    <tr>\n",
       "      <th>4141</th>\n",
       "      <td>1965</td>\n",
       "      <td>Graduation</td>\n",
       "      <td>Together</td>\n",
       "      <td>71613.0</td>\n",
       "      <td>0</td>\n",
       "      <td>0</td>\n",
       "      <td>21-08-2013</td>\n",
       "      <td>26</td>\n",
       "      <td>426</td>\n",
       "      <td>49</td>\n",
       "      <td>...</td>\n",
       "      <td>4</td>\n",
       "      <td>0</td>\n",
       "      <td>0</td>\n",
       "      <td>0</td>\n",
       "      <td>0</td>\n",
       "      <td>0</td>\n",
       "      <td>0</td>\n",
       "      <td>3</td>\n",
       "      <td>11</td>\n",
       "      <td>0</td>\n",
       "    </tr>\n",
       "    <tr>\n",
       "      <th>6182</th>\n",
       "      <td>1984</td>\n",
       "      <td>Graduation</td>\n",
       "      <td>Together</td>\n",
       "      <td>26646.0</td>\n",
       "      <td>1</td>\n",
       "      <td>0</td>\n",
       "      <td>10-02-2014</td>\n",
       "      <td>26</td>\n",
       "      <td>11</td>\n",
       "      <td>4</td>\n",
       "      <td>...</td>\n",
       "      <td>6</td>\n",
       "      <td>0</td>\n",
       "      <td>0</td>\n",
       "      <td>0</td>\n",
       "      <td>0</td>\n",
       "      <td>0</td>\n",
       "      <td>0</td>\n",
       "      <td>3</td>\n",
       "      <td>11</td>\n",
       "      <td>0</td>\n",
       "    </tr>\n",
       "    <tr>\n",
       "      <th>5324</th>\n",
       "      <td>1981</td>\n",
       "      <td>PhD</td>\n",
       "      <td>Married</td>\n",
       "      <td>58293.0</td>\n",
       "      <td>1</td>\n",
       "      <td>0</td>\n",
       "      <td>19-01-2014</td>\n",
       "      <td>94</td>\n",
       "      <td>173</td>\n",
       "      <td>43</td>\n",
       "      <td>...</td>\n",
       "      <td>5</td>\n",
       "      <td>0</td>\n",
       "      <td>0</td>\n",
       "      <td>0</td>\n",
       "      <td>0</td>\n",
       "      <td>0</td>\n",
       "      <td>0</td>\n",
       "      <td>3</td>\n",
       "      <td>11</td>\n",
       "      <td>0</td>\n",
       "    </tr>\n",
       "  </tbody>\n",
       "</table>\n",
       "<p>5 rows × 28 columns</p>\n",
       "</div>"
      ],
      "text/plain": [
       "      Year_Birth   Education Marital_Status   Income  Kidhome  Teenhome  \\\n",
       "ID                                                                        \n",
       "5524        1957  Graduation         Single  58138.0        0         0   \n",
       "2174        1954  Graduation         Single  46344.0        1         1   \n",
       "4141        1965  Graduation       Together  71613.0        0         0   \n",
       "6182        1984  Graduation       Together  26646.0        1         0   \n",
       "5324        1981         PhD        Married  58293.0        1         0   \n",
       "\n",
       "     Dt_Customer  Recency  MntWines  MntFruits  ...  NumWebVisitsMonth  \\\n",
       "ID                                              ...                      \n",
       "5524  04-09-2012       58       635         88  ...                  7   \n",
       "2174  08-03-2014       38        11          1  ...                  5   \n",
       "4141  21-08-2013       26       426         49  ...                  4   \n",
       "6182  10-02-2014       26        11          4  ...                  6   \n",
       "5324  19-01-2014       94       173         43  ...                  5   \n",
       "\n",
       "      AcceptedCmp3  AcceptedCmp4  AcceptedCmp5  AcceptedCmp1  AcceptedCmp2  \\\n",
       "ID                                                                           \n",
       "5524             0             0             0             0             0   \n",
       "2174             0             0             0             0             0   \n",
       "4141             0             0             0             0             0   \n",
       "6182             0             0             0             0             0   \n",
       "5324             0             0             0             0             0   \n",
       "\n",
       "      Complain  Z_CostContact  Z_Revenue  Response  \n",
       "ID                                                  \n",
       "5524         0              3         11         1  \n",
       "2174         0              3         11         0  \n",
       "4141         0              3         11         0  \n",
       "6182         0              3         11         0  \n",
       "5324         0              3         11         0  \n",
       "\n",
       "[5 rows x 28 columns]"
      ]
     },
     "execution_count": 2,
     "metadata": {},
     "output_type": "execute_result"
    }
   ],
   "source": [
    "data = pd.read_csv('marketing_campaign.csv', delimiter='\\t', index_col='ID')\n",
    "data.head()"
   ]
  },
  {
   "cell_type": "code",
   "execution_count": 3,
   "id": "87565dd9",
   "metadata": {},
   "outputs": [
    {
     "data": {
      "text/plain": [
       "(2240, 28)"
      ]
     },
     "execution_count": 3,
     "metadata": {},
     "output_type": "execute_result"
    }
   ],
   "source": [
    "data.shape"
   ]
  },
  {
   "cell_type": "code",
   "execution_count": 4,
   "id": "41251c6c",
   "metadata": {},
   "outputs": [
    {
     "name": "stdout",
     "output_type": "stream",
     "text": [
      "<class 'pandas.core.frame.DataFrame'>\n",
      "Int64Index: 2240 entries, 5524 to 9405\n",
      "Data columns (total 28 columns):\n",
      " #   Column               Non-Null Count  Dtype  \n",
      "---  ------               --------------  -----  \n",
      " 0   Year_Birth           2240 non-null   int64  \n",
      " 1   Education            2240 non-null   object \n",
      " 2   Marital_Status       2240 non-null   object \n",
      " 3   Income               2216 non-null   float64\n",
      " 4   Kidhome              2240 non-null   int64  \n",
      " 5   Teenhome             2240 non-null   int64  \n",
      " 6   Dt_Customer          2240 non-null   object \n",
      " 7   Recency              2240 non-null   int64  \n",
      " 8   MntWines             2240 non-null   int64  \n",
      " 9   MntFruits            2240 non-null   int64  \n",
      " 10  MntMeatProducts      2240 non-null   int64  \n",
      " 11  MntFishProducts      2240 non-null   int64  \n",
      " 12  MntSweetProducts     2240 non-null   int64  \n",
      " 13  MntGoldProds         2240 non-null   int64  \n",
      " 14  NumDealsPurchases    2240 non-null   int64  \n",
      " 15  NumWebPurchases      2240 non-null   int64  \n",
      " 16  NumCatalogPurchases  2240 non-null   int64  \n",
      " 17  NumStorePurchases    2240 non-null   int64  \n",
      " 18  NumWebVisitsMonth    2240 non-null   int64  \n",
      " 19  AcceptedCmp3         2240 non-null   int64  \n",
      " 20  AcceptedCmp4         2240 non-null   int64  \n",
      " 21  AcceptedCmp5         2240 non-null   int64  \n",
      " 22  AcceptedCmp1         2240 non-null   int64  \n",
      " 23  AcceptedCmp2         2240 non-null   int64  \n",
      " 24  Complain             2240 non-null   int64  \n",
      " 25  Z_CostContact        2240 non-null   int64  \n",
      " 26  Z_Revenue            2240 non-null   int64  \n",
      " 27  Response             2240 non-null   int64  \n",
      "dtypes: float64(1), int64(24), object(3)\n",
      "memory usage: 507.5+ KB\n"
     ]
    }
   ],
   "source": [
    "data.info()"
   ]
  },
  {
   "cell_type": "code",
   "execution_count": 5,
   "id": "5521f2e4",
   "metadata": {},
   "outputs": [],
   "source": [
    "y = data.pop('Response')"
   ]
  },
  {
   "cell_type": "code",
   "execution_count": 6,
   "id": "c99e1b35",
   "metadata": {},
   "outputs": [
    {
     "name": "stdout",
     "output_type": "stream",
     "text": [
      "(1680, 27) (560, 27) (1680,) (560,)\n"
     ]
    }
   ],
   "source": [
    "from sklearn.model_selection import train_test_split\n",
    "\n",
    "X_train, X_test, y_train, y_test = train_test_split(data, y, test_size=0.25)\n",
    "print(X_train.shape, X_test.shape, y_train.shape, y_test.shape)"
   ]
  },
  {
   "cell_type": "code",
   "execution_count": 7,
   "id": "9d482f17",
   "metadata": {},
   "outputs": [
    {
     "name": "stdout",
     "output_type": "stream",
     "text": [
      "(56, 27) (504, 27) (56,) (504,)\n"
     ]
    }
   ],
   "source": [
    "X_test, X_val, y_test, y_val = train_test_split(X_test, y_test, test_size=0.1, random_state=8)\n",
    "print(X_val.shape, X_test.shape, y_val.shape, y_test.shape)"
   ]
  }
 ],
 "metadata": {
  "kernelspec": {
   "display_name": "Python 3",
   "language": "python",
   "name": "python3"
  },
  "language_info": {
   "codemirror_mode": {
    "name": "ipython",
    "version": 3
   },
   "file_extension": ".py",
   "mimetype": "text/x-python",
   "name": "python",
   "nbconvert_exporter": "python",
   "pygments_lexer": "ipython3",
   "version": "3.8.8"
  },
  "nbTranslate": {
   "displayLangs": [
    "*"
   ],
   "hotkey": "alt-t",
   "langInMainMenu": true,
   "sourceLang": "en",
   "targetLang": "fr",
   "useGoogleTranslate": true
  },
  "varInspector": {
   "cols": {
    "lenName": 16,
    "lenType": 16,
    "lenVar": 40
   },
   "kernels_config": {
    "python": {
     "delete_cmd_postfix": "",
     "delete_cmd_prefix": "del ",
     "library": "var_list.py",
     "varRefreshCmd": "print(var_dic_list())"
    },
    "r": {
     "delete_cmd_postfix": ") ",
     "delete_cmd_prefix": "rm(",
     "library": "var_list.r",
     "varRefreshCmd": "cat(var_dic_list()) "
    }
   },
   "types_to_exclude": [
    "module",
    "function",
    "builtin_function_or_method",
    "instance",
    "_Feature"
   ],
   "window_display": false
  }
 },
 "nbformat": 4,
 "nbformat_minor": 5
}
