{
 "cells": [
  {
   "cell_type": "markdown",
   "id": "8827f2d5",
   "metadata": {},
   "source": [
    "### Q 2. Consider any business scenario dataset and apply algorithm to handle the missing data.\n",
    "#### a. Find out the detail of the dataset to check the missing value.\n",
    "#### b. According to the missing value, find out the suitable algorithm to handle the missing data.\n",
    "#### c. Apply algorithm to handle the missing data and again check the missing value in the dataset."
   ]
  },
  {
   "cell_type": "markdown",
   "id": "5e744ad5",
   "metadata": {},
   "source": [
    "### Dataset\n",
    "Starbucks started as a roaster and retailer of whole bean and ground coffee, tea and spices with a single store in Seattle’s Pike Place Market in 1971. The company now operates more than 24,000 retail stores in 70 countries.\n",
    "This dataset includes a record for every Starbucks or subsidiary store location currently in operation as of February 2017.\n",
    "\n",
    "Link: https://www.kaggle.com/starbucks/store-locations"
   ]
  },
  {
   "cell_type": "code",
   "execution_count": 1,
   "id": "147bd73c",
   "metadata": {},
   "outputs": [],
   "source": [
    "import pandas as pd\n",
    "import numpy as np"
   ]
  },
  {
   "cell_type": "code",
   "execution_count": 23,
   "id": "09e59ce2",
   "metadata": {},
   "outputs": [
    {
     "data": {
      "text/html": [
       "<div>\n",
       "<style scoped>\n",
       "    .dataframe tbody tr th:only-of-type {\n",
       "        vertical-align: middle;\n",
       "    }\n",
       "\n",
       "    .dataframe tbody tr th {\n",
       "        vertical-align: top;\n",
       "    }\n",
       "\n",
       "    .dataframe thead th {\n",
       "        text-align: right;\n",
       "    }\n",
       "</style>\n",
       "<table border=\"1\" class=\"dataframe\">\n",
       "  <thead>\n",
       "    <tr style=\"text-align: right;\">\n",
       "      <th></th>\n",
       "      <th>Brand</th>\n",
       "      <th>Store Number</th>\n",
       "      <th>Store Name</th>\n",
       "      <th>Ownership Type</th>\n",
       "      <th>Street Address</th>\n",
       "      <th>City</th>\n",
       "      <th>State/Province</th>\n",
       "      <th>Country</th>\n",
       "      <th>Postcode</th>\n",
       "      <th>Phone Number</th>\n",
       "      <th>Timezone</th>\n",
       "      <th>Longitude</th>\n",
       "      <th>Latitude</th>\n",
       "    </tr>\n",
       "  </thead>\n",
       "  <tbody>\n",
       "    <tr>\n",
       "      <th>0</th>\n",
       "      <td>Starbucks</td>\n",
       "      <td>47370-257954</td>\n",
       "      <td>Meritxell, 96</td>\n",
       "      <td>Licensed</td>\n",
       "      <td>Av. Meritxell, 96</td>\n",
       "      <td>Andorra la Vella</td>\n",
       "      <td>7</td>\n",
       "      <td>AD</td>\n",
       "      <td>AD500</td>\n",
       "      <td>376818720</td>\n",
       "      <td>GMT+1:00 Europe/Andorra</td>\n",
       "      <td>1.53</td>\n",
       "      <td>42.51</td>\n",
       "    </tr>\n",
       "    <tr>\n",
       "      <th>1</th>\n",
       "      <td>Starbucks</td>\n",
       "      <td>22331-212325</td>\n",
       "      <td>Ajman Drive Thru</td>\n",
       "      <td>Licensed</td>\n",
       "      <td>1 Street 69, Al Jarf</td>\n",
       "      <td>Ajman</td>\n",
       "      <td>AJ</td>\n",
       "      <td>AE</td>\n",
       "      <td>NaN</td>\n",
       "      <td>NaN</td>\n",
       "      <td>GMT+04:00 Asia/Dubai</td>\n",
       "      <td>55.47</td>\n",
       "      <td>25.42</td>\n",
       "    </tr>\n",
       "    <tr>\n",
       "      <th>2</th>\n",
       "      <td>Starbucks</td>\n",
       "      <td>47089-256771</td>\n",
       "      <td>Dana Mall</td>\n",
       "      <td>Licensed</td>\n",
       "      <td>Sheikh Khalifa Bin Zayed St.</td>\n",
       "      <td>Ajman</td>\n",
       "      <td>AJ</td>\n",
       "      <td>AE</td>\n",
       "      <td>NaN</td>\n",
       "      <td>NaN</td>\n",
       "      <td>GMT+04:00 Asia/Dubai</td>\n",
       "      <td>55.47</td>\n",
       "      <td>25.39</td>\n",
       "    </tr>\n",
       "    <tr>\n",
       "      <th>3</th>\n",
       "      <td>Starbucks</td>\n",
       "      <td>22126-218024</td>\n",
       "      <td>Twofour 54</td>\n",
       "      <td>Licensed</td>\n",
       "      <td>Al Salam Street</td>\n",
       "      <td>Abu Dhabi</td>\n",
       "      <td>AZ</td>\n",
       "      <td>AE</td>\n",
       "      <td>NaN</td>\n",
       "      <td>NaN</td>\n",
       "      <td>GMT+04:00 Asia/Dubai</td>\n",
       "      <td>54.38</td>\n",
       "      <td>24.48</td>\n",
       "    </tr>\n",
       "    <tr>\n",
       "      <th>4</th>\n",
       "      <td>Starbucks</td>\n",
       "      <td>17127-178586</td>\n",
       "      <td>Al Ain Tower</td>\n",
       "      <td>Licensed</td>\n",
       "      <td>Khaldiya Area, Abu Dhabi Island</td>\n",
       "      <td>Abu Dhabi</td>\n",
       "      <td>AZ</td>\n",
       "      <td>AE</td>\n",
       "      <td>NaN</td>\n",
       "      <td>NaN</td>\n",
       "      <td>GMT+04:00 Asia/Dubai</td>\n",
       "      <td>54.54</td>\n",
       "      <td>24.51</td>\n",
       "    </tr>\n",
       "  </tbody>\n",
       "</table>\n",
       "</div>"
      ],
      "text/plain": [
       "       Brand  Store Number        Store Name Ownership Type  \\\n",
       "0  Starbucks  47370-257954     Meritxell, 96       Licensed   \n",
       "1  Starbucks  22331-212325  Ajman Drive Thru       Licensed   \n",
       "2  Starbucks  47089-256771         Dana Mall       Licensed   \n",
       "3  Starbucks  22126-218024        Twofour 54       Licensed   \n",
       "4  Starbucks  17127-178586      Al Ain Tower       Licensed   \n",
       "\n",
       "                    Street Address              City State/Province Country  \\\n",
       "0                Av. Meritxell, 96  Andorra la Vella              7      AD   \n",
       "1             1 Street 69, Al Jarf             Ajman             AJ      AE   \n",
       "2     Sheikh Khalifa Bin Zayed St.             Ajman             AJ      AE   \n",
       "3                  Al Salam Street         Abu Dhabi             AZ      AE   \n",
       "4  Khaldiya Area, Abu Dhabi Island         Abu Dhabi             AZ      AE   \n",
       "\n",
       "  Postcode Phone Number                 Timezone  Longitude  Latitude  \n",
       "0    AD500    376818720  GMT+1:00 Europe/Andorra       1.53     42.51  \n",
       "1      NaN          NaN     GMT+04:00 Asia/Dubai      55.47     25.42  \n",
       "2      NaN          NaN     GMT+04:00 Asia/Dubai      55.47     25.39  \n",
       "3      NaN          NaN     GMT+04:00 Asia/Dubai      54.38     24.48  \n",
       "4      NaN          NaN     GMT+04:00 Asia/Dubai      54.54     24.51  "
      ]
     },
     "execution_count": 23,
     "metadata": {},
     "output_type": "execute_result"
    }
   ],
   "source": [
    "data = pd.read_csv(r'C:\\Users\\manas\\Desktop\\PAUP\\2\\directory.csv')\n",
    "data.head()"
   ]
  },
  {
   "cell_type": "code",
   "execution_count": 24,
   "id": "ec60b954",
   "metadata": {},
   "outputs": [
    {
     "data": {
      "text/plain": [
       "(25600, 13)"
      ]
     },
     "execution_count": 24,
     "metadata": {},
     "output_type": "execute_result"
    }
   ],
   "source": [
    "data.shape"
   ]
  },
  {
   "cell_type": "code",
   "execution_count": 25,
   "id": "2dbcfc10",
   "metadata": {},
   "outputs": [
    {
     "data": {
      "text/html": [
       "<div>\n",
       "<style scoped>\n",
       "    .dataframe tbody tr th:only-of-type {\n",
       "        vertical-align: middle;\n",
       "    }\n",
       "\n",
       "    .dataframe tbody tr th {\n",
       "        vertical-align: top;\n",
       "    }\n",
       "\n",
       "    .dataframe thead th {\n",
       "        text-align: right;\n",
       "    }\n",
       "</style>\n",
       "<table border=\"1\" class=\"dataframe\">\n",
       "  <thead>\n",
       "    <tr style=\"text-align: right;\">\n",
       "      <th></th>\n",
       "      <th>Longitude</th>\n",
       "      <th>Latitude</th>\n",
       "    </tr>\n",
       "  </thead>\n",
       "  <tbody>\n",
       "    <tr>\n",
       "      <th>count</th>\n",
       "      <td>25599.000000</td>\n",
       "      <td>25599.000000</td>\n",
       "    </tr>\n",
       "    <tr>\n",
       "      <th>mean</th>\n",
       "      <td>-27.872234</td>\n",
       "      <td>34.793016</td>\n",
       "    </tr>\n",
       "    <tr>\n",
       "      <th>std</th>\n",
       "      <td>96.844046</td>\n",
       "      <td>13.342332</td>\n",
       "    </tr>\n",
       "    <tr>\n",
       "      <th>min</th>\n",
       "      <td>-159.460000</td>\n",
       "      <td>-46.410000</td>\n",
       "    </tr>\n",
       "    <tr>\n",
       "      <th>25%</th>\n",
       "      <td>-104.665000</td>\n",
       "      <td>31.240000</td>\n",
       "    </tr>\n",
       "    <tr>\n",
       "      <th>50%</th>\n",
       "      <td>-79.350000</td>\n",
       "      <td>36.750000</td>\n",
       "    </tr>\n",
       "    <tr>\n",
       "      <th>75%</th>\n",
       "      <td>100.630000</td>\n",
       "      <td>41.570000</td>\n",
       "    </tr>\n",
       "    <tr>\n",
       "      <th>max</th>\n",
       "      <td>176.920000</td>\n",
       "      <td>64.850000</td>\n",
       "    </tr>\n",
       "  </tbody>\n",
       "</table>\n",
       "</div>"
      ],
      "text/plain": [
       "          Longitude      Latitude\n",
       "count  25599.000000  25599.000000\n",
       "mean     -27.872234     34.793016\n",
       "std       96.844046     13.342332\n",
       "min     -159.460000    -46.410000\n",
       "25%     -104.665000     31.240000\n",
       "50%      -79.350000     36.750000\n",
       "75%      100.630000     41.570000\n",
       "max      176.920000     64.850000"
      ]
     },
     "execution_count": 25,
     "metadata": {},
     "output_type": "execute_result"
    }
   ],
   "source": [
    "data.describe()"
   ]
  },
  {
   "cell_type": "code",
   "execution_count": 26,
   "id": "296e1dcf",
   "metadata": {},
   "outputs": [
    {
     "data": {
      "text/plain": [
       "Brand                0\n",
       "Store Number         0\n",
       "Store Name           0\n",
       "Ownership Type       0\n",
       "Street Address       2\n",
       "City                15\n",
       "State/Province       0\n",
       "Country              0\n",
       "Postcode          1522\n",
       "Phone Number      6861\n",
       "Timezone             0\n",
       "Longitude            1\n",
       "Latitude             1\n",
       "dtype: int64"
      ]
     },
     "execution_count": 26,
     "metadata": {},
     "output_type": "execute_result"
    }
   ],
   "source": [
    "data.isnull().sum()"
   ]
  },
  {
   "cell_type": "code",
   "execution_count": 27,
   "id": "a4e7294f",
   "metadata": {},
   "outputs": [
    {
     "data": {
      "text/html": [
       "<style  type=\"text/css\" >\n",
       "#T_bc447_row0_col0,#T_bc447_row0_col1,#T_bc447_row2_col0,#T_bc447_row2_col1,#T_bc447_row3_col1,#T_bc447_row4_col1,#T_bc447_row5_col0,#T_bc447_row5_col1,#T_bc447_row8_col0,#T_bc447_row8_col1,#T_bc447_row9_col0,#T_bc447_row9_col1,#T_bc447_row10_col0,#T_bc447_row10_col1,#T_bc447_row12_col0,#T_bc447_row12_col1{\n",
       "            width:  10em;\n",
       "             height:  80%;\n",
       "        }#T_bc447_row1_col0,#T_bc447_row1_col1{\n",
       "            width:  10em;\n",
       "             height:  80%;\n",
       "            background:  linear-gradient(90deg,gold 0.2%, transparent 0.2%);\n",
       "        }#T_bc447_row3_col0,#T_bc447_row4_col0,#T_bc447_row11_col0,#T_bc447_row11_col1{\n",
       "            width:  10em;\n",
       "             height:  80%;\n",
       "            background:  linear-gradient(90deg,gold 0.0%, transparent 0.0%);\n",
       "        }#T_bc447_row6_col0,#T_bc447_row6_col1{\n",
       "            width:  10em;\n",
       "             height:  80%;\n",
       "            background:  linear-gradient(90deg,gold 100.0%, transparent 100.0%);\n",
       "        }#T_bc447_row7_col0,#T_bc447_row7_col1{\n",
       "            width:  10em;\n",
       "             height:  80%;\n",
       "            background:  linear-gradient(90deg,gold 22.2%, transparent 22.2%);\n",
       "        }</style><table id=\"T_bc447_\" ><thead>    <tr>        <th class=\"blank level0\" ></th>        <th class=\"col_heading level0 col0\" >train_total</th>        <th class=\"col_heading level0 col1\" >train_percent</th>    </tr></thead><tbody>\n",
       "                <tr>\n",
       "                        <th id=\"T_bc447_level0_row0\" class=\"row_heading level0 row0\" >Brand</th>\n",
       "                        <td id=\"T_bc447_row0_col0\" class=\"data row0 col0\" >0</td>\n",
       "                        <td id=\"T_bc447_row0_col1\" class=\"data row0 col1\" >0.000000</td>\n",
       "            </tr>\n",
       "            <tr>\n",
       "                        <th id=\"T_bc447_level0_row1\" class=\"row_heading level0 row1\" >City</th>\n",
       "                        <td id=\"T_bc447_row1_col0\" class=\"data row1 col0\" >15</td>\n",
       "                        <td id=\"T_bc447_row1_col1\" class=\"data row1 col1\" >0.060000</td>\n",
       "            </tr>\n",
       "            <tr>\n",
       "                        <th id=\"T_bc447_level0_row2\" class=\"row_heading level0 row2\" >Country</th>\n",
       "                        <td id=\"T_bc447_row2_col0\" class=\"data row2 col0\" >0</td>\n",
       "                        <td id=\"T_bc447_row2_col1\" class=\"data row2 col1\" >0.000000</td>\n",
       "            </tr>\n",
       "            <tr>\n",
       "                        <th id=\"T_bc447_level0_row3\" class=\"row_heading level0 row3\" >Latitude</th>\n",
       "                        <td id=\"T_bc447_row3_col0\" class=\"data row3 col0\" >1</td>\n",
       "                        <td id=\"T_bc447_row3_col1\" class=\"data row3 col1\" >0.000000</td>\n",
       "            </tr>\n",
       "            <tr>\n",
       "                        <th id=\"T_bc447_level0_row4\" class=\"row_heading level0 row4\" >Longitude</th>\n",
       "                        <td id=\"T_bc447_row4_col0\" class=\"data row4 col0\" >1</td>\n",
       "                        <td id=\"T_bc447_row4_col1\" class=\"data row4 col1\" >0.000000</td>\n",
       "            </tr>\n",
       "            <tr>\n",
       "                        <th id=\"T_bc447_level0_row5\" class=\"row_heading level0 row5\" >Ownership Type</th>\n",
       "                        <td id=\"T_bc447_row5_col0\" class=\"data row5 col0\" >0</td>\n",
       "                        <td id=\"T_bc447_row5_col1\" class=\"data row5 col1\" >0.000000</td>\n",
       "            </tr>\n",
       "            <tr>\n",
       "                        <th id=\"T_bc447_level0_row6\" class=\"row_heading level0 row6\" >Phone Number</th>\n",
       "                        <td id=\"T_bc447_row6_col0\" class=\"data row6 col0\" >6861</td>\n",
       "                        <td id=\"T_bc447_row6_col1\" class=\"data row6 col1\" >26.800000</td>\n",
       "            </tr>\n",
       "            <tr>\n",
       "                        <th id=\"T_bc447_level0_row7\" class=\"row_heading level0 row7\" >Postcode</th>\n",
       "                        <td id=\"T_bc447_row7_col0\" class=\"data row7 col0\" >1522</td>\n",
       "                        <td id=\"T_bc447_row7_col1\" class=\"data row7 col1\" >5.950000</td>\n",
       "            </tr>\n",
       "            <tr>\n",
       "                        <th id=\"T_bc447_level0_row8\" class=\"row_heading level0 row8\" >State/Province</th>\n",
       "                        <td id=\"T_bc447_row8_col0\" class=\"data row8 col0\" >0</td>\n",
       "                        <td id=\"T_bc447_row8_col1\" class=\"data row8 col1\" >0.000000</td>\n",
       "            </tr>\n",
       "            <tr>\n",
       "                        <th id=\"T_bc447_level0_row9\" class=\"row_heading level0 row9\" >Store Name</th>\n",
       "                        <td id=\"T_bc447_row9_col0\" class=\"data row9 col0\" >0</td>\n",
       "                        <td id=\"T_bc447_row9_col1\" class=\"data row9 col1\" >0.000000</td>\n",
       "            </tr>\n",
       "            <tr>\n",
       "                        <th id=\"T_bc447_level0_row10\" class=\"row_heading level0 row10\" >Store Number</th>\n",
       "                        <td id=\"T_bc447_row10_col0\" class=\"data row10 col0\" >0</td>\n",
       "                        <td id=\"T_bc447_row10_col1\" class=\"data row10 col1\" >0.000000</td>\n",
       "            </tr>\n",
       "            <tr>\n",
       "                        <th id=\"T_bc447_level0_row11\" class=\"row_heading level0 row11\" >Street Address</th>\n",
       "                        <td id=\"T_bc447_row11_col0\" class=\"data row11 col0\" >2</td>\n",
       "                        <td id=\"T_bc447_row11_col1\" class=\"data row11 col1\" >0.010000</td>\n",
       "            </tr>\n",
       "            <tr>\n",
       "                        <th id=\"T_bc447_level0_row12\" class=\"row_heading level0 row12\" >Timezone</th>\n",
       "                        <td id=\"T_bc447_row12_col0\" class=\"data row12 col0\" >0</td>\n",
       "                        <td id=\"T_bc447_row12_col1\" class=\"data row12 col1\" >0.000000</td>\n",
       "            </tr>\n",
       "    </tbody></table>"
      ],
      "text/plain": [
       "<pandas.io.formats.style.Styler at 0x1cc7dba5d90>"
      ]
     },
     "execution_count": 27,
     "metadata": {},
     "output_type": "execute_result"
    }
   ],
   "source": [
    "train_total=data.isnull().sum()\n",
    "\n",
    "train_percent=((data.isnull().sum()/(data.shape[0])*100).round(2))\n",
    "\n",
    "train_missing_data=pd.concat([train_total,train_percent],axis=1,\n",
    "                        keys=[\"train_total\",\"train_percent\"],sort=True)\n",
    "\n",
    "train_missing_data.style.bar(color = [\"gold\"])"
   ]
  },
  {
   "cell_type": "code",
   "execution_count": 28,
   "id": "f32ff247",
   "metadata": {},
   "outputs": [
    {
     "data": {
      "text/plain": [
       "Street Address     object\n",
       "City               object\n",
       "Postcode           object\n",
       "Phone Number       object\n",
       "Longitude         float64\n",
       "Latitude          float64\n",
       "dtype: object"
      ]
     },
     "execution_count": 28,
     "metadata": {},
     "output_type": "execute_result"
    }
   ],
   "source": [
    "data.dtypes[data.isnull().any()]"
   ]
  },
  {
   "cell_type": "code",
   "execution_count": 31,
   "id": "8e9a7d54",
   "metadata": {},
   "outputs": [],
   "source": [
    "data[\"Postcode\"]=data[\"Postcode\"].fillna(data[\"Postcode\"].mode()[0])\n",
    "data[\"Phone Number\"]=data[\"Phone Number\"].fillna(data[\"Phone Number\"].mode()[0])"
   ]
  },
  {
   "cell_type": "code",
   "execution_count": 32,
   "id": "650ef0c3",
   "metadata": {},
   "outputs": [
    {
     "data": {
      "text/html": [
       "<style  type=\"text/css\" >\n",
       "#T_64ebd_row0_col0,#T_64ebd_row0_col1,#T_64ebd_row2_col0,#T_64ebd_row2_col1,#T_64ebd_row3_col1,#T_64ebd_row4_col1,#T_64ebd_row5_col0,#T_64ebd_row5_col1,#T_64ebd_row6_col0,#T_64ebd_row6_col1,#T_64ebd_row7_col0,#T_64ebd_row7_col1,#T_64ebd_row8_col0,#T_64ebd_row8_col1,#T_64ebd_row9_col0,#T_64ebd_row9_col1,#T_64ebd_row10_col0,#T_64ebd_row10_col1,#T_64ebd_row12_col0,#T_64ebd_row12_col1{\n",
       "            width:  10em;\n",
       "             height:  80%;\n",
       "        }#T_64ebd_row1_col0,#T_64ebd_row1_col1{\n",
       "            width:  10em;\n",
       "             height:  80%;\n",
       "            background:  linear-gradient(90deg,gold 100.0%, transparent 100.0%);\n",
       "        }#T_64ebd_row3_col0,#T_64ebd_row4_col0{\n",
       "            width:  10em;\n",
       "             height:  80%;\n",
       "            background:  linear-gradient(90deg,gold 6.7%, transparent 6.7%);\n",
       "        }#T_64ebd_row11_col0{\n",
       "            width:  10em;\n",
       "             height:  80%;\n",
       "            background:  linear-gradient(90deg,gold 13.3%, transparent 13.3%);\n",
       "        }#T_64ebd_row11_col1{\n",
       "            width:  10em;\n",
       "             height:  80%;\n",
       "            background:  linear-gradient(90deg,gold 16.7%, transparent 16.7%);\n",
       "        }</style><table id=\"T_64ebd_\" ><thead>    <tr>        <th class=\"blank level0\" ></th>        <th class=\"col_heading level0 col0\" >train_total</th>        <th class=\"col_heading level0 col1\" >train_percent</th>    </tr></thead><tbody>\n",
       "                <tr>\n",
       "                        <th id=\"T_64ebd_level0_row0\" class=\"row_heading level0 row0\" >Brand</th>\n",
       "                        <td id=\"T_64ebd_row0_col0\" class=\"data row0 col0\" >0</td>\n",
       "                        <td id=\"T_64ebd_row0_col1\" class=\"data row0 col1\" >0.000000</td>\n",
       "            </tr>\n",
       "            <tr>\n",
       "                        <th id=\"T_64ebd_level0_row1\" class=\"row_heading level0 row1\" >City</th>\n",
       "                        <td id=\"T_64ebd_row1_col0\" class=\"data row1 col0\" >15</td>\n",
       "                        <td id=\"T_64ebd_row1_col1\" class=\"data row1 col1\" >0.060000</td>\n",
       "            </tr>\n",
       "            <tr>\n",
       "                        <th id=\"T_64ebd_level0_row2\" class=\"row_heading level0 row2\" >Country</th>\n",
       "                        <td id=\"T_64ebd_row2_col0\" class=\"data row2 col0\" >0</td>\n",
       "                        <td id=\"T_64ebd_row2_col1\" class=\"data row2 col1\" >0.000000</td>\n",
       "            </tr>\n",
       "            <tr>\n",
       "                        <th id=\"T_64ebd_level0_row3\" class=\"row_heading level0 row3\" >Latitude</th>\n",
       "                        <td id=\"T_64ebd_row3_col0\" class=\"data row3 col0\" >1</td>\n",
       "                        <td id=\"T_64ebd_row3_col1\" class=\"data row3 col1\" >0.000000</td>\n",
       "            </tr>\n",
       "            <tr>\n",
       "                        <th id=\"T_64ebd_level0_row4\" class=\"row_heading level0 row4\" >Longitude</th>\n",
       "                        <td id=\"T_64ebd_row4_col0\" class=\"data row4 col0\" >1</td>\n",
       "                        <td id=\"T_64ebd_row4_col1\" class=\"data row4 col1\" >0.000000</td>\n",
       "            </tr>\n",
       "            <tr>\n",
       "                        <th id=\"T_64ebd_level0_row5\" class=\"row_heading level0 row5\" >Ownership Type</th>\n",
       "                        <td id=\"T_64ebd_row5_col0\" class=\"data row5 col0\" >0</td>\n",
       "                        <td id=\"T_64ebd_row5_col1\" class=\"data row5 col1\" >0.000000</td>\n",
       "            </tr>\n",
       "            <tr>\n",
       "                        <th id=\"T_64ebd_level0_row6\" class=\"row_heading level0 row6\" >Phone Number</th>\n",
       "                        <td id=\"T_64ebd_row6_col0\" class=\"data row6 col0\" >0</td>\n",
       "                        <td id=\"T_64ebd_row6_col1\" class=\"data row6 col1\" >0.000000</td>\n",
       "            </tr>\n",
       "            <tr>\n",
       "                        <th id=\"T_64ebd_level0_row7\" class=\"row_heading level0 row7\" >Postcode</th>\n",
       "                        <td id=\"T_64ebd_row7_col0\" class=\"data row7 col0\" >0</td>\n",
       "                        <td id=\"T_64ebd_row7_col1\" class=\"data row7 col1\" >0.000000</td>\n",
       "            </tr>\n",
       "            <tr>\n",
       "                        <th id=\"T_64ebd_level0_row8\" class=\"row_heading level0 row8\" >State/Province</th>\n",
       "                        <td id=\"T_64ebd_row8_col0\" class=\"data row8 col0\" >0</td>\n",
       "                        <td id=\"T_64ebd_row8_col1\" class=\"data row8 col1\" >0.000000</td>\n",
       "            </tr>\n",
       "            <tr>\n",
       "                        <th id=\"T_64ebd_level0_row9\" class=\"row_heading level0 row9\" >Store Name</th>\n",
       "                        <td id=\"T_64ebd_row9_col0\" class=\"data row9 col0\" >0</td>\n",
       "                        <td id=\"T_64ebd_row9_col1\" class=\"data row9 col1\" >0.000000</td>\n",
       "            </tr>\n",
       "            <tr>\n",
       "                        <th id=\"T_64ebd_level0_row10\" class=\"row_heading level0 row10\" >Store Number</th>\n",
       "                        <td id=\"T_64ebd_row10_col0\" class=\"data row10 col0\" >0</td>\n",
       "                        <td id=\"T_64ebd_row10_col1\" class=\"data row10 col1\" >0.000000</td>\n",
       "            </tr>\n",
       "            <tr>\n",
       "                        <th id=\"T_64ebd_level0_row11\" class=\"row_heading level0 row11\" >Street Address</th>\n",
       "                        <td id=\"T_64ebd_row11_col0\" class=\"data row11 col0\" >2</td>\n",
       "                        <td id=\"T_64ebd_row11_col1\" class=\"data row11 col1\" >0.010000</td>\n",
       "            </tr>\n",
       "            <tr>\n",
       "                        <th id=\"T_64ebd_level0_row12\" class=\"row_heading level0 row12\" >Timezone</th>\n",
       "                        <td id=\"T_64ebd_row12_col0\" class=\"data row12 col0\" >0</td>\n",
       "                        <td id=\"T_64ebd_row12_col1\" class=\"data row12 col1\" >0.000000</td>\n",
       "            </tr>\n",
       "    </tbody></table>"
      ],
      "text/plain": [
       "<pandas.io.formats.style.Styler at 0x1cc7f33a0a0>"
      ]
     },
     "execution_count": 32,
     "metadata": {},
     "output_type": "execute_result"
    }
   ],
   "source": [
    "train_total=data.isnull().sum()\n",
    "\n",
    "train_percent=((data.isnull().sum()/(data.shape[0])*100).round(2))\n",
    "\n",
    "train_missing_data=pd.concat([train_total,train_percent],axis=1,\n",
    "                        keys=[\"train_total\",\"train_percent\"],sort=True)\n",
    "\n",
    "train_missing_data.style.bar(color = [\"gold\"])"
   ]
  }
 ],
 "metadata": {
  "kernelspec": {
   "display_name": "Python 3",
   "language": "python",
   "name": "python3"
  },
  "language_info": {
   "codemirror_mode": {
    "name": "ipython",
    "version": 3
   },
   "file_extension": ".py",
   "mimetype": "text/x-python",
   "name": "python",
   "nbconvert_exporter": "python",
   "pygments_lexer": "ipython3",
   "version": "3.8.8"
  },
  "nbTranslate": {
   "displayLangs": [
    "*"
   ],
   "hotkey": "alt-t",
   "langInMainMenu": true,
   "sourceLang": "en",
   "targetLang": "fr",
   "useGoogleTranslate": true
  },
  "varInspector": {
   "cols": {
    "lenName": 16,
    "lenType": 16,
    "lenVar": 40
   },
   "kernels_config": {
    "python": {
     "delete_cmd_postfix": "",
     "delete_cmd_prefix": "del ",
     "library": "var_list.py",
     "varRefreshCmd": "print(var_dic_list())"
    },
    "r": {
     "delete_cmd_postfix": ") ",
     "delete_cmd_prefix": "rm(",
     "library": "var_list.r",
     "varRefreshCmd": "cat(var_dic_list()) "
    }
   },
   "types_to_exclude": [
    "module",
    "function",
    "builtin_function_or_method",
    "instance",
    "_Feature"
   ],
   "window_display": false
  }
 },
 "nbformat": 4,
 "nbformat_minor": 5
}
